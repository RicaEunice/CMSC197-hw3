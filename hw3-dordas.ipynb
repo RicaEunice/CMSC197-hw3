{
 "cells": [
  {
   "cell_type": "markdown",
   "id": "29f2a06a",
   "metadata": {},
   "source": [
    "### CMSC 197 - Machine Learning\n",
    "#### HW 3 -  Submitted by Rica Eunice L. Dordas"
   ]
  },
  {
   "cell_type": "code",
   "execution_count": 1,
   "id": "d3c578f4",
   "metadata": {},
   "outputs": [],
   "source": [
    "# Standard Libraries #\n",
    "\n",
    "import numpy as np\n",
    "import pandas as pd\n",
    "import matplotlib.pyplot as plt\n",
    "import seaborn as sns\n",
    "import random\n",
    "sns.set_style(\"whitegrid\")\n",
    "sns.set_context(\"poster\")\n",
    "\n",
    "%matplotlib inline\n",
    "\n",
    "# For Processing #\n",
    "from sklearn.model_selection import train_test_split\n",
    "\n",
    "# For Building the Model #\n",
    "from sklearn.linear_model import LinearRegression, Lasso, Ridge\n",
    "from sklearn.pipeline import make_pipeline\n",
    "\n",
    "# For Validation of Model #\n",
    "from sklearn.metrics import r2_score, mean_absolute_error, mean_squared_error\n",
    "from sklearn.model_selection import cross_val_score"
   ]
  },
  {
   "cell_type": "markdown",
   "id": "a91253be",
   "metadata": {},
   "source": [
    "## 1. Load Advertising.csv dataset "
   ]
  },
  {
   "cell_type": "code",
   "execution_count": 2,
   "id": "2a43c9bc",
   "metadata": {},
   "outputs": [
    {
     "data": {
      "text/html": [
       "<div>\n",
       "<style scoped>\n",
       "    .dataframe tbody tr th:only-of-type {\n",
       "        vertical-align: middle;\n",
       "    }\n",
       "\n",
       "    .dataframe tbody tr th {\n",
       "        vertical-align: top;\n",
       "    }\n",
       "\n",
       "    .dataframe thead th {\n",
       "        text-align: right;\n",
       "    }\n",
       "</style>\n",
       "<table border=\"1\" class=\"dataframe\">\n",
       "  <thead>\n",
       "    <tr style=\"text-align: right;\">\n",
       "      <th></th>\n",
       "      <th>bias</th>\n",
       "      <th>TV</th>\n",
       "      <th>Radio</th>\n",
       "      <th>Newspaper</th>\n",
       "      <th>Sales</th>\n",
       "    </tr>\n",
       "  </thead>\n",
       "  <tbody>\n",
       "    <tr>\n",
       "      <th>1</th>\n",
       "      <td>1</td>\n",
       "      <td>230.1</td>\n",
       "      <td>37.8</td>\n",
       "      <td>69.2</td>\n",
       "      <td>22.1</td>\n",
       "    </tr>\n",
       "    <tr>\n",
       "      <th>2</th>\n",
       "      <td>1</td>\n",
       "      <td>44.5</td>\n",
       "      <td>39.3</td>\n",
       "      <td>45.1</td>\n",
       "      <td>10.4</td>\n",
       "    </tr>\n",
       "    <tr>\n",
       "      <th>3</th>\n",
       "      <td>1</td>\n",
       "      <td>17.2</td>\n",
       "      <td>45.9</td>\n",
       "      <td>69.3</td>\n",
       "      <td>9.3</td>\n",
       "    </tr>\n",
       "    <tr>\n",
       "      <th>4</th>\n",
       "      <td>1</td>\n",
       "      <td>151.5</td>\n",
       "      <td>41.3</td>\n",
       "      <td>58.5</td>\n",
       "      <td>18.5</td>\n",
       "    </tr>\n",
       "    <tr>\n",
       "      <th>5</th>\n",
       "      <td>1</td>\n",
       "      <td>180.8</td>\n",
       "      <td>10.8</td>\n",
       "      <td>58.4</td>\n",
       "      <td>12.9</td>\n",
       "    </tr>\n",
       "    <tr>\n",
       "      <th>...</th>\n",
       "      <td>...</td>\n",
       "      <td>...</td>\n",
       "      <td>...</td>\n",
       "      <td>...</td>\n",
       "      <td>...</td>\n",
       "    </tr>\n",
       "    <tr>\n",
       "      <th>196</th>\n",
       "      <td>1</td>\n",
       "      <td>38.2</td>\n",
       "      <td>3.7</td>\n",
       "      <td>13.8</td>\n",
       "      <td>7.6</td>\n",
       "    </tr>\n",
       "    <tr>\n",
       "      <th>197</th>\n",
       "      <td>1</td>\n",
       "      <td>94.2</td>\n",
       "      <td>4.9</td>\n",
       "      <td>8.1</td>\n",
       "      <td>9.7</td>\n",
       "    </tr>\n",
       "    <tr>\n",
       "      <th>198</th>\n",
       "      <td>1</td>\n",
       "      <td>177.0</td>\n",
       "      <td>9.3</td>\n",
       "      <td>6.4</td>\n",
       "      <td>12.8</td>\n",
       "    </tr>\n",
       "    <tr>\n",
       "      <th>199</th>\n",
       "      <td>1</td>\n",
       "      <td>283.6</td>\n",
       "      <td>42.0</td>\n",
       "      <td>66.2</td>\n",
       "      <td>25.5</td>\n",
       "    </tr>\n",
       "    <tr>\n",
       "      <th>200</th>\n",
       "      <td>1</td>\n",
       "      <td>232.1</td>\n",
       "      <td>8.6</td>\n",
       "      <td>8.7</td>\n",
       "      <td>13.4</td>\n",
       "    </tr>\n",
       "  </tbody>\n",
       "</table>\n",
       "<p>200 rows × 5 columns</p>\n",
       "</div>"
      ],
      "text/plain": [
       "     bias     TV  Radio  Newspaper  Sales\n",
       "1       1  230.1   37.8       69.2   22.1\n",
       "2       1   44.5   39.3       45.1   10.4\n",
       "3       1   17.2   45.9       69.3    9.3\n",
       "4       1  151.5   41.3       58.5   18.5\n",
       "5       1  180.8   10.8       58.4   12.9\n",
       "..    ...    ...    ...        ...    ...\n",
       "196     1   38.2    3.7       13.8    7.6\n",
       "197     1   94.2    4.9        8.1    9.7\n",
       "198     1  177.0    9.3        6.4   12.8\n",
       "199     1  283.6   42.0       66.2   25.5\n",
       "200     1  232.1    8.6        8.7   13.4\n",
       "\n",
       "[200 rows x 5 columns]"
      ]
     },
     "execution_count": 2,
     "metadata": {},
     "output_type": "execute_result"
    }
   ],
   "source": [
    "df = pd.read_csv(\"Advertising.csv\", index_col=0)\n",
    "df.insert(0, 'bias', [1]*df.shape[0])\n",
    "df"
   ]
  },
  {
   "cell_type": "markdown",
   "id": "1cb1a0df",
   "metadata": {},
   "source": [
    "## 2. Standardize each column of the dataset"
   ]
  },
  {
   "cell_type": "code",
   "execution_count": 3,
   "id": "f483cff3",
   "metadata": {},
   "outputs": [],
   "source": [
    "TV_mean = df.TV.mean()\n",
    "Radio_mean = df.Radio.mean()\n",
    "Newspaper_mean = df.Newspaper.mean()\n",
    "Sales_mean = df.Sales.mean()"
   ]
  },
  {
   "cell_type": "code",
   "execution_count": 4,
   "id": "8449faef",
   "metadata": {},
   "outputs": [],
   "source": [
    "TV_std = df.TV.std()\n",
    "Radio_std = df.Radio.std()\n",
    "Newspaper_std = df.Newspaper.std()\n",
    "Sales_std = df.Sales.std()"
   ]
  },
  {
   "cell_type": "markdown",
   "id": "e35c7fdb",
   "metadata": {},
   "source": [
    "### z = (X - μ) / σ "
   ]
  },
  {
   "cell_type": "code",
   "execution_count": 5,
   "id": "4990a43e",
   "metadata": {},
   "outputs": [
    {
     "data": {
      "text/html": [
       "<div>\n",
       "<style scoped>\n",
       "    .dataframe tbody tr th:only-of-type {\n",
       "        vertical-align: middle;\n",
       "    }\n",
       "\n",
       "    .dataframe tbody tr th {\n",
       "        vertical-align: top;\n",
       "    }\n",
       "\n",
       "    .dataframe thead th {\n",
       "        text-align: right;\n",
       "    }\n",
       "</style>\n",
       "<table border=\"1\" class=\"dataframe\">\n",
       "  <thead>\n",
       "    <tr style=\"text-align: right;\">\n",
       "      <th></th>\n",
       "      <th>bias</th>\n",
       "      <th>TV</th>\n",
       "      <th>Radio</th>\n",
       "      <th>Newspaper</th>\n",
       "      <th>Sales</th>\n",
       "    </tr>\n",
       "  </thead>\n",
       "  <tbody>\n",
       "    <tr>\n",
       "      <th>1</th>\n",
       "      <td>1</td>\n",
       "      <td>0.967425</td>\n",
       "      <td>0.979066</td>\n",
       "      <td>1.774493</td>\n",
       "      <td>1.548168</td>\n",
       "    </tr>\n",
       "    <tr>\n",
       "      <th>2</th>\n",
       "      <td>1</td>\n",
       "      <td>-1.194379</td>\n",
       "      <td>1.080097</td>\n",
       "      <td>0.667903</td>\n",
       "      <td>-0.694304</td>\n",
       "    </tr>\n",
       "    <tr>\n",
       "      <th>3</th>\n",
       "      <td>1</td>\n",
       "      <td>-1.512360</td>\n",
       "      <td>1.524637</td>\n",
       "      <td>1.779084</td>\n",
       "      <td>-0.905135</td>\n",
       "    </tr>\n",
       "    <tr>\n",
       "      <th>4</th>\n",
       "      <td>1</td>\n",
       "      <td>0.051919</td>\n",
       "      <td>1.214806</td>\n",
       "      <td>1.283185</td>\n",
       "      <td>0.858177</td>\n",
       "    </tr>\n",
       "    <tr>\n",
       "      <th>5</th>\n",
       "      <td>1</td>\n",
       "      <td>0.393196</td>\n",
       "      <td>-0.839507</td>\n",
       "      <td>1.278593</td>\n",
       "      <td>-0.215143</td>\n",
       "    </tr>\n",
       "    <tr>\n",
       "      <th>...</th>\n",
       "      <td>...</td>\n",
       "      <td>...</td>\n",
       "      <td>...</td>\n",
       "      <td>...</td>\n",
       "      <td>...</td>\n",
       "    </tr>\n",
       "    <tr>\n",
       "      <th>196</th>\n",
       "      <td>1</td>\n",
       "      <td>-1.267759</td>\n",
       "      <td>-1.317724</td>\n",
       "      <td>-0.769287</td>\n",
       "      <td>-1.230964</td>\n",
       "    </tr>\n",
       "    <tr>\n",
       "      <th>197</th>\n",
       "      <td>1</td>\n",
       "      <td>-0.615491</td>\n",
       "      <td>-1.236899</td>\n",
       "      <td>-1.031011</td>\n",
       "      <td>-0.828469</td>\n",
       "    </tr>\n",
       "    <tr>\n",
       "      <th>198</th>\n",
       "      <td>1</td>\n",
       "      <td>0.348934</td>\n",
       "      <td>-0.940539</td>\n",
       "      <td>-1.109069</td>\n",
       "      <td>-0.234310</td>\n",
       "    </tr>\n",
       "    <tr>\n",
       "      <th>199</th>\n",
       "      <td>1</td>\n",
       "      <td>1.590574</td>\n",
       "      <td>1.261955</td>\n",
       "      <td>1.636743</td>\n",
       "      <td>2.199827</td>\n",
       "    </tr>\n",
       "    <tr>\n",
       "      <th>200</th>\n",
       "      <td>1</td>\n",
       "      <td>0.990720</td>\n",
       "      <td>-0.987687</td>\n",
       "      <td>-1.003461</td>\n",
       "      <td>-0.119311</td>\n",
       "    </tr>\n",
       "  </tbody>\n",
       "</table>\n",
       "<p>200 rows × 5 columns</p>\n",
       "</div>"
      ],
      "text/plain": [
       "     bias        TV     Radio  Newspaper     Sales\n",
       "1       1  0.967425  0.979066   1.774493  1.548168\n",
       "2       1 -1.194379  1.080097   0.667903 -0.694304\n",
       "3       1 -1.512360  1.524637   1.779084 -0.905135\n",
       "4       1  0.051919  1.214806   1.283185  0.858177\n",
       "5       1  0.393196 -0.839507   1.278593 -0.215143\n",
       "..    ...       ...       ...        ...       ...\n",
       "196     1 -1.267759 -1.317724  -0.769287 -1.230964\n",
       "197     1 -0.615491 -1.236899  -1.031011 -0.828469\n",
       "198     1  0.348934 -0.940539  -1.109069 -0.234310\n",
       "199     1  1.590574  1.261955   1.636743  2.199827\n",
       "200     1  0.990720 -0.987687  -1.003461 -0.119311\n",
       "\n",
       "[200 rows x 5 columns]"
      ]
     },
     "execution_count": 5,
     "metadata": {},
     "output_type": "execute_result"
    }
   ],
   "source": [
    "df['TV'] = (df['TV'] - df.TV.mean()) / df.TV.std()\n",
    "df['Radio'] = (df['Radio'] - df.Radio.mean()) / df.Radio.std()\n",
    "df['Newspaper'] = (df['Newspaper'] - df.Newspaper.mean()) / df.Newspaper.std()\n",
    "df['Sales'] = (df['Sales'] - df.Sales.mean()) / df.Sales.std()\n",
    "df"
   ]
  },
  {
   "cell_type": "code",
   "execution_count": 6,
   "id": "6f09cb0d",
   "metadata": {},
   "outputs": [],
   "source": [
    "x = df.drop(\"Sales\", axis = 1)\n",
    "y = df[\"Sales\"]"
   ]
  },
  {
   "cell_type": "markdown",
   "id": "74ed1b71",
   "metadata": {},
   "source": [
    "# 4. Divide the dataset into training and testing, with 0.85 and 0.15 ratio"
   ]
  },
  {
   "cell_type": "code",
   "execution_count": 7,
   "id": "75b05992",
   "metadata": {},
   "outputs": [],
   "source": [
    "x_train, x_test, y_train, y_test = train_test_split(x, y, train_size = 0.85, test_size=0.15, random_state = 42)"
   ]
  },
  {
   "cell_type": "code",
   "execution_count": 8,
   "id": "f4d0b910",
   "metadata": {},
   "outputs": [
    {
     "name": "stdout",
     "output_type": "stream",
     "text": [
      "     bias        TV     Radio  Newspaper\n",
      "10      1  0.614501 -1.391814  -0.429504\n",
      "19      1 -0.906682 -0.186168  -0.562662\n",
      "56      1  0.604018  1.760378   1.352060\n",
      "76      1 -1.515854  1.376457   2.702008\n",
      "151     1  1.556796 -0.630708   0.295978\n",
      "..    ...       ...       ...        ...\n",
      "107     1 -1.421508 -0.826036  -0.039213\n",
      "15      1  0.664586  0.649028   0.709228\n",
      "93      1  0.822994  0.689441   1.306143\n",
      "180     1  0.216151 -0.893391  -0.594804\n",
      "103     1  1.550972 -0.886655  -0.420320\n",
      "\n",
      "[170 rows x 4 columns]\n"
     ]
    }
   ],
   "source": [
    "print(x_train)"
   ]
  },
  {
   "cell_type": "code",
   "execution_count": 9,
   "id": "3c078568",
   "metadata": {},
   "outputs": [
    {
     "name": "stdout",
     "output_type": "stream",
     "text": [
      "10    -0.655971\n",
      "19    -0.521806\n",
      "56     1.854831\n",
      "76    -1.020133\n",
      "151    0.398183\n",
      "         ...   \n",
      "107   -1.307629\n",
      "15     0.954009\n",
      "93     1.030675\n",
      "180   -0.272642\n",
      "103    0.149019\n",
      "Name: Sales, Length: 170, dtype: float64\n"
     ]
    }
   ],
   "source": [
    "print(y_train)"
   ]
  },
  {
   "cell_type": "markdown",
   "id": "5af973bd",
   "metadata": {},
   "source": [
    "# 5. Fit the Model"
   ]
  },
  {
   "cell_type": "code",
   "execution_count": 10,
   "id": "0c454272",
   "metadata": {},
   "outputs": [
    {
     "data": {
      "text/plain": [
       "array([0.6394268 , 0.02501076, 0.27502932, 0.22321074])"
      ]
     },
     "execution_count": 10,
     "metadata": {},
     "output_type": "execute_result"
    }
   ],
   "source": [
    "def initialize_weights():\n",
    "    random.seed(42)\n",
    "    j0 = random.random()\n",
    "    j1 = random.random()\n",
    "    j2 = random.random()\n",
    "    j3 = random.random()\n",
    "    init_w = np.array([j0, j1, j2, j3])\n",
    "    return init_w\n",
    "initialize_weights()"
   ]
  },
  {
   "cell_type": "code",
   "execution_count": 11,
   "id": "0baf3301",
   "metadata": {},
   "outputs": [],
   "source": [
    "def predict(weights, x):\n",
    "    y_hat = np.sum(np.multiply(weights, x), axis=1)\n",
    "    return y_hat"
   ]
  },
  {
   "cell_type": "code",
   "execution_count": 12,
   "id": "6affba38",
   "metadata": {},
   "outputs": [],
   "source": [
    "def compute_cost(y_hat, y):\n",
    "    error = y_hat - y\n",
    "    cost = (np.dot(error.T, error))/(2*y.shape[0])\n",
    "    return cost"
   ]
  },
  {
   "cell_type": "code",
   "execution_count": 13,
   "id": "ece7a1a3",
   "metadata": {},
   "outputs": [],
   "source": [
    "def compute_gradient(y_hat, y, x):\n",
    "    error = y_hat - y\n",
    "    par_der = (np.dot(x.T, error)) / y.shape[0]\n",
    "    return par_der"
   ]
  },
  {
   "cell_type": "code",
   "execution_count": 14,
   "id": "9c7daf24",
   "metadata": {},
   "outputs": [],
   "source": [
    "def update_weights(weights, gradients, l_rate):\n",
    "    new_weights = weights - (l_rate*gradients)\n",
    "    return new_weights"
   ]
  },
  {
   "cell_type": "code",
   "execution_count": 15,
   "id": "016e077d",
   "metadata": {},
   "outputs": [],
   "source": [
    "def grad_descent(x, y, iterations, l_rate):\n",
    "    costs_mat = []\n",
    "    weights_mat = []\n",
    "    \n",
    "    init_w = initialize_weights()\n",
    "    \n",
    "    for i in range(iterations):\n",
    "        \n",
    "        y_hat = predict(init_w, x)\n",
    "        \n",
    "        cost = compute_cost(y_hat, y)\n",
    "        \n",
    "        gradient = compute_gradient(y_hat, y, x)\n",
    "        \n",
    "        init_w = update_weights(init_w, gradient, l_rate)\n",
    "        \n",
    "        costs_mat.append(cost)\n",
    "        weights_mat.append(init_w)\n",
    "        \n",
    "    return weights_mat, costs_mat\n",
    "    \n",
    "    "
   ]
  },
  {
   "cell_type": "markdown",
   "id": "f946f9e6",
   "metadata": {},
   "source": [
    "# 6. Predict the quantitative response y on the train set"
   ]
  },
  {
   "cell_type": "code",
   "execution_count": 16,
   "id": "83e7692f",
   "metadata": {},
   "outputs": [
    {
     "data": {
      "text/plain": [
       "10    -0.273256\n",
       "19    -0.753185\n",
       "56     1.398663\n",
       "76    -0.293976\n",
       "151    0.821591\n",
       "         ...   \n",
       "107   -1.441325\n",
       "15     0.849894\n",
       "93     1.002043\n",
       "180   -0.308155\n",
       "103    0.664952\n",
       "Length: 170, dtype: float64"
      ]
     },
     "execution_count": 16,
     "metadata": {},
     "output_type": "execute_result"
    }
   ],
   "source": [
    "weights, costs = grad_descent(x_train, y_train, 400, 0.01)\n",
    "y_hat = predict(weights[-1], x_train)\n",
    "y_hat"
   ]
  },
  {
   "cell_type": "code",
   "execution_count": 17,
   "id": "76bfd604",
   "metadata": {},
   "outputs": [
    {
     "data": {
      "text/plain": [
       "0.051565840303299686"
      ]
     },
     "execution_count": 17,
     "metadata": {},
     "output_type": "execute_result"
    }
   ],
   "source": [
    "compute_cost(y_train, y_hat)"
   ]
  },
  {
   "cell_type": "code",
   "execution_count": 18,
   "id": "4c21153b",
   "metadata": {},
   "outputs": [
    {
     "data": {
      "text/plain": [
       "0.10313168060659939"
      ]
     },
     "execution_count": 18,
     "metadata": {},
     "output_type": "execute_result"
    }
   ],
   "source": [
    "MSE = mean_squared_error(y_train, y_hat)\n",
    "MSE"
   ]
  },
  {
   "cell_type": "markdown",
   "id": "ca8665d2",
   "metadata": {},
   "source": [
    "# 7. Predict the quantitative response y on the test set"
   ]
  },
  {
   "cell_type": "code",
   "execution_count": 19,
   "id": "a4eeec7f",
   "metadata": {},
   "outputs": [
    {
     "data": {
      "text/plain": [
       "96     0.470072\n",
       "16     1.300851\n",
       "31     1.433658\n",
       "159   -0.631528\n",
       "129    1.491609\n",
       "116   -0.154292\n",
       "70     1.315540\n",
       "171   -1.224558\n",
       "175   -0.065601\n",
       "46     0.224963\n",
       "67    -0.948571\n",
       "183   -1.363208\n",
       "166    0.128757\n",
       "79    -0.974466\n",
       "187   -0.791314\n",
       "178   -0.323324\n",
       "57    -0.979860\n",
       "153    0.419908\n",
       "83    -0.690479\n",
       "69     0.897055\n",
       "125    1.079206\n",
       "17    -0.080956\n",
       "149   -0.334710\n",
       "94     1.403136\n",
       "66    -1.167268\n",
       "61    -1.525468\n",
       "85     1.264939\n",
       "68    -0.382423\n",
       "126   -0.894762\n",
       "133   -1.052635\n",
       "dtype: float64"
      ]
     },
     "execution_count": 19,
     "metadata": {},
     "output_type": "execute_result"
    }
   ],
   "source": [
    "yhat_test = predict(weights[-1], x_test)\n",
    "yhat_test"
   ]
  },
  {
   "cell_type": "code",
   "execution_count": 20,
   "id": "7848a2a8",
   "metadata": {},
   "outputs": [
    {
     "data": {
      "text/plain": [
       "0.0555424823646403"
      ]
     },
     "execution_count": 20,
     "metadata": {},
     "output_type": "execute_result"
    }
   ],
   "source": [
    "compute_cost(yhat_test, y_test)"
   ]
  },
  {
   "cell_type": "code",
   "execution_count": 21,
   "id": "7144c3b2",
   "metadata": {},
   "outputs": [
    {
     "data": {
      "text/plain": [
       "0.1110849647292806"
      ]
     },
     "execution_count": 21,
     "metadata": {},
     "output_type": "execute_result"
    }
   ],
   "source": [
    "MSE = mean_squared_error(y_test, yhat_test)\n",
    "MSE"
   ]
  },
  {
   "cell_type": "markdown",
   "id": "4163e9b4",
   "metadata": {},
   "source": [
    "# 8. Revert back a standardized data into the original form"
   ]
  },
  {
   "cell_type": "code",
   "execution_count": 22,
   "id": "47dda46b",
   "metadata": {},
   "outputs": [],
   "source": [
    "new_df = pd.DataFrame()"
   ]
  },
  {
   "cell_type": "code",
   "execution_count": 23,
   "id": "a5cbdc10",
   "metadata": {},
   "outputs": [
    {
     "data": {
      "text/html": [
       "<div>\n",
       "<style scoped>\n",
       "    .dataframe tbody tr th:only-of-type {\n",
       "        vertical-align: middle;\n",
       "    }\n",
       "\n",
       "    .dataframe tbody tr th {\n",
       "        vertical-align: top;\n",
       "    }\n",
       "\n",
       "    .dataframe thead th {\n",
       "        text-align: right;\n",
       "    }\n",
       "</style>\n",
       "<table border=\"1\" class=\"dataframe\">\n",
       "  <thead>\n",
       "    <tr style=\"text-align: right;\">\n",
       "      <th></th>\n",
       "      <th>TV</th>\n",
       "      <th>Radio</th>\n",
       "      <th>Newspaper</th>\n",
       "      <th>Sales</th>\n",
       "    </tr>\n",
       "  </thead>\n",
       "  <tbody>\n",
       "    <tr>\n",
       "      <th>1</th>\n",
       "      <td>230.1</td>\n",
       "      <td>37.8</td>\n",
       "      <td>69.2</td>\n",
       "      <td>22.1</td>\n",
       "    </tr>\n",
       "    <tr>\n",
       "      <th>2</th>\n",
       "      <td>44.5</td>\n",
       "      <td>39.3</td>\n",
       "      <td>45.1</td>\n",
       "      <td>10.4</td>\n",
       "    </tr>\n",
       "    <tr>\n",
       "      <th>3</th>\n",
       "      <td>17.2</td>\n",
       "      <td>45.9</td>\n",
       "      <td>69.3</td>\n",
       "      <td>9.3</td>\n",
       "    </tr>\n",
       "    <tr>\n",
       "      <th>4</th>\n",
       "      <td>151.5</td>\n",
       "      <td>41.3</td>\n",
       "      <td>58.5</td>\n",
       "      <td>18.5</td>\n",
       "    </tr>\n",
       "    <tr>\n",
       "      <th>5</th>\n",
       "      <td>180.8</td>\n",
       "      <td>10.8</td>\n",
       "      <td>58.4</td>\n",
       "      <td>12.9</td>\n",
       "    </tr>\n",
       "    <tr>\n",
       "      <th>...</th>\n",
       "      <td>...</td>\n",
       "      <td>...</td>\n",
       "      <td>...</td>\n",
       "      <td>...</td>\n",
       "    </tr>\n",
       "    <tr>\n",
       "      <th>196</th>\n",
       "      <td>38.2</td>\n",
       "      <td>3.7</td>\n",
       "      <td>13.8</td>\n",
       "      <td>7.6</td>\n",
       "    </tr>\n",
       "    <tr>\n",
       "      <th>197</th>\n",
       "      <td>94.2</td>\n",
       "      <td>4.9</td>\n",
       "      <td>8.1</td>\n",
       "      <td>9.7</td>\n",
       "    </tr>\n",
       "    <tr>\n",
       "      <th>198</th>\n",
       "      <td>177.0</td>\n",
       "      <td>9.3</td>\n",
       "      <td>6.4</td>\n",
       "      <td>12.8</td>\n",
       "    </tr>\n",
       "    <tr>\n",
       "      <th>199</th>\n",
       "      <td>283.6</td>\n",
       "      <td>42.0</td>\n",
       "      <td>66.2</td>\n",
       "      <td>25.5</td>\n",
       "    </tr>\n",
       "    <tr>\n",
       "      <th>200</th>\n",
       "      <td>232.1</td>\n",
       "      <td>8.6</td>\n",
       "      <td>8.7</td>\n",
       "      <td>13.4</td>\n",
       "    </tr>\n",
       "  </tbody>\n",
       "</table>\n",
       "<p>200 rows × 4 columns</p>\n",
       "</div>"
      ],
      "text/plain": [
       "        TV  Radio  Newspaper  Sales\n",
       "1    230.1   37.8       69.2   22.1\n",
       "2     44.5   39.3       45.1   10.4\n",
       "3     17.2   45.9       69.3    9.3\n",
       "4    151.5   41.3       58.5   18.5\n",
       "5    180.8   10.8       58.4   12.9\n",
       "..     ...    ...        ...    ...\n",
       "196   38.2    3.7       13.8    7.6\n",
       "197   94.2    4.9        8.1    9.7\n",
       "198  177.0    9.3        6.4   12.8\n",
       "199  283.6   42.0       66.2   25.5\n",
       "200  232.1    8.6        8.7   13.4\n",
       "\n",
       "[200 rows x 4 columns]"
      ]
     },
     "execution_count": 23,
     "metadata": {},
     "output_type": "execute_result"
    }
   ],
   "source": [
    "new_df['TV'] = df['TV'] * TV_std + TV_mean\n",
    "new_df['Radio'] = df['Radio'] * Radio_std + Radio_mean\n",
    "new_df['Newspaper'] = df['Newspaper'] * Newspaper_std + Newspaper_mean\n",
    "new_df['Sales'] = df['Sales'] * Sales_std + Sales_mean\n",
    "new_df"
   ]
  },
  {
   "cell_type": "code",
   "execution_count": 24,
   "id": "5b2d83f8",
   "metadata": {},
   "outputs": [],
   "source": [
    "x_new = new_df.drop('Sales', axis=1)\n",
    "y_new = df[\"Sales\"]"
   ]
  },
  {
   "cell_type": "code",
   "execution_count": 25,
   "id": "5e5b84f0",
   "metadata": {
    "scrolled": true
   },
   "outputs": [],
   "source": [
    "x_train_new, x_test_new, y_train_new, y_test_new = train_test_split(x, y, train_size=0.85, test_size=0.15, random_state = 42)"
   ]
  },
  {
   "cell_type": "code",
   "execution_count": 26,
   "id": "1d854bb1",
   "metadata": {},
   "outputs": [
    {
     "data": {
      "text/plain": [
       "10    -0.273256\n",
       "19    -0.753185\n",
       "56     1.398663\n",
       "76    -0.293976\n",
       "151    0.821591\n",
       "         ...   \n",
       "107   -1.441325\n",
       "15     0.849894\n",
       "93     1.002043\n",
       "180   -0.308155\n",
       "103    0.664952\n",
       "Length: 170, dtype: float64"
      ]
     },
     "execution_count": 26,
     "metadata": {},
     "output_type": "execute_result"
    }
   ],
   "source": [
    "y_hat_new = predict(weights[-1], x_train_new)\n",
    "y_hat_new"
   ]
  },
  {
   "cell_type": "code",
   "execution_count": 27,
   "id": "bfac4b83",
   "metadata": {},
   "outputs": [
    {
     "data": {
      "text/plain": [
       "0.051565840303299686"
      ]
     },
     "execution_count": 27,
     "metadata": {},
     "output_type": "execute_result"
    }
   ],
   "source": [
    "compute_cost(y_hat_new, y_train_new)"
   ]
  },
  {
   "cell_type": "markdown",
   "id": "a541e51a",
   "metadata": {},
   "source": [
    "# QUESTION"
   ]
  },
  {
   "cell_type": "markdown",
   "id": "5769d956",
   "metadata": {},
   "source": [
    "##### 1. What are the optimal weights found by your implemented gradient descent? "
   ]
  },
  {
   "cell_type": "code",
   "execution_count": 28,
   "id": "140d493c",
   "metadata": {},
   "outputs": [
    {
     "data": {
      "text/plain": [
       "array([0.01414984, 0.7227366 , 0.51692293, 0.02809588])"
      ]
     },
     "execution_count": 28,
     "metadata": {},
     "output_type": "execute_result"
    }
   ],
   "source": [
    "weights[-1]"
   ]
  },
  {
   "cell_type": "markdown",
   "id": "e13babe3",
   "metadata": {},
   "source": [
    "##### The optimal weights found by the function gradient descent are 0.01414984, 0.7227366 , 0.51692293, 0.02809588."
   ]
  },
  {
   "cell_type": "markdown",
   "id": "a3489579",
   "metadata": {},
   "source": [
    "#### Plug it into the linear model:\n",
    "\n",
    "hθ(x) = 0.01414984 + 0.7227366 (TV) + 0.51692293 (Radio) + 0.02809588 (Newspaper)"
   ]
  },
  {
   "cell_type": "markdown",
   "id": "7f460427",
   "metadata": {},
   "source": [
    "#### What are your interpretations regarding the formed linear model?\n",
    "\n",
    "The impact on sales of the objects vary on their weights. Since TV has the biggest weight (0.7227366), it has the greatest impact on sales. It is followed by Radio (0.51692293), and the object with the least impact is Newspaper (0.02809588)."
   ]
  },
  {
   "cell_type": "markdown",
   "id": "7f6d8149",
   "metadata": {},
   "source": [
    "#### 2. Provide a scatter plot of the y_hat and y for both the train and test set. Is there a trend? "
   ]
  },
  {
   "cell_type": "code",
   "execution_count": 29,
   "id": "8d08fc78",
   "metadata": {},
   "outputs": [
    {
     "data": {
      "text/plain": [
       "<AxesSubplot:title={'center':'Train Set: Predicted Sales vs Actual Sales'}, ylabel='Sales'>"
      ]
     },
     "execution_count": 29,
     "metadata": {},
     "output_type": "execute_result"
    },
    {
     "data": {
      "image/png": "[encoded data removed]",
      "text/plain": [
       "<Figure size 1080x360 with 1 Axes>"
      ]
     },
     "metadata": {
      "needs_background": "light"
     },
     "output_type": "display_data"
    }
   ],
   "source": [
    "fig, ax = plt.subplots(figsize=(15, 5))\n",
    "plt.title(\"Train Set: Predicted Sales vs Actual Sales\")\n",
    "sns.scatterplot(x=y_hat, y=y_train, ax=ax)"
   ]
  },
  {
   "cell_type": "markdown",
   "id": "2af5db56",
   "metadata": {},
   "source": [
    "#### Provide an r2 score (also available in sklearn)."
   ]
  },
  {
   "cell_type": "code",
   "execution_count": 30,
   "id": "d14232f8",
   "metadata": {},
   "outputs": [
    {
     "data": {
      "text/plain": [
       "0.892667168857797"
      ]
     },
     "execution_count": 30,
     "metadata": {},
     "output_type": "execute_result"
    }
   ],
   "source": [
    "r2_score(y_train, y_hat)"
   ]
  },
  {
   "cell_type": "code",
   "execution_count": 31,
   "id": "72404164",
   "metadata": {},
   "outputs": [
    {
     "data": {
      "text/plain": [
       "<AxesSubplot:title={'center':'Test Set: Predicted Sales vs Actual Sales'}, ylabel='Sales'>"
      ]
     },
     "execution_count": 31,
     "metadata": {},
     "output_type": "execute_result"
    },
    {
     "data": {
      "image/png": "[encoded data removed]",
      "text/plain": [
       "<Figure size 1080x360 with 1 Axes>"
      ]
     },
     "metadata": {
      "needs_background": "light"
     },
     "output_type": "display_data"
    }
   ],
   "source": [
    "fig, ax = plt.subplots(figsize=(15, 5))\n",
    "plt.title(\"Test Set: Predicted Sales vs Actual Sales\")\n",
    "sns.scatterplot(x=yhat_test, y=y_test, ax=ax)"
   ]
  },
  {
   "cell_type": "code",
   "execution_count": 32,
   "id": "4d31692c",
   "metadata": {},
   "outputs": [
    {
     "data": {
      "text/plain": [
       "0.9057328737703467"
      ]
     },
     "execution_count": 32,
     "metadata": {},
     "output_type": "execute_result"
    }
   ],
   "source": [
    "r2_score(y_test, yhat_test)"
   ]
  },
  {
   "cell_type": "markdown",
   "id": "8e132a3d",
   "metadata": {},
   "source": [
    "###### The first table shows the train set while the second table shows the test set of the predicted sales vs the actual sales. Both train and test set indicate that as the actual sales increases the predicted sales also increases. Also, the data are close to each other which are also closer towards the regression. With this, it concludes that it is a good model to predict the sales."
   ]
  },
  {
   "cell_type": "markdown",
   "id": "2f282ac9",
   "metadata": {},
   "source": [
    "#### 3. What happens to the error, r2, and cost as the number of iterations increase? Show yourdata and proof. You can alternatively plot your result data for visualization and check until 50000 iterations or more (actually)."
   ]
  },
  {
   "cell_type": "code",
   "execution_count": null,
   "id": "ce93d682",
   "metadata": {},
   "outputs": [],
   "source": [
    "weights, costs = grad_descent(x_train, y_train, 50000, 0.01)"
   ]
  },
  {
   "cell_type": "markdown",
   "id": "0fecabdc",
   "metadata": {},
   "source": [
    "#### 4. Once you determine the optimal number of iterations, check the effect on the cost anderror as you change the learning rate. The common learning rates in machine learninginclude 0.1, 0.01, 0.001, 0.0001, 0.2 but you have the option to include others. \n",
    "\n",
    "#### Visualize the cost function (vs the optimal number of iterations) of each learning rate in ONLY ONE PLOT. Provide your analysis.\n"
   ]
  },
  {
   "cell_type": "markdown",
   "id": "cafd42e5",
   "metadata": {},
   "source": [
    "#### 5. Is there a relationship on the learning rate and the number of iterations?\n",
    "\n",
    "Based on the relationship of learning rate and the number of iterations, as the learning is lower, it will require more number of iterations in order to have a lower cost function. With this, it will take up more time since there will be more iterations. This is why it is important to get the optimal learning rate in order to have the decent amount of iterations wherein it will not take up too much time and cost.\n",
    "\n",
    "Reference: https://www.mygreatlearning.com/blog/understanding-learning-rate-in-machine-learning/#:~:text=If%20the%20learning%20rate%20used,higher%20than%20the%20minimum%20value."
   ]
  },
  {
   "cell_type": "markdown",
   "id": "c5c12850",
   "metadata": {},
   "source": [
    "#### 6. Compare the results with the results of ordinary least squares function"
   ]
  },
  {
   "cell_type": "code",
   "execution_count": null,
   "id": "183aa664",
   "metadata": {},
   "outputs": [],
   "source": [
    "R2_OLS = LinearRegression().fit(x_train, y_train).score(x_train, y_train)\n",
    "R2_Scratch = r2_score(y_test,yhat_test)\n",
    "\n",
    "print(\"R2 of OLS: \", R2_OLS)\n",
    "print(\"R2 of Scratch: \", R2_Scratch)"
   ]
  },
  {
   "cell_type": "markdown",
   "id": "6a793adf",
   "metadata": {},
   "source": [
    "#### R2 scores are used in order to compare the results of ordinary least squares function and the one made from scratch code. An r-squared score indicates how well the data are fits in a regression line. Since the R2 score of the scratch code is higher than the ordinary least squares function, the data are a bit closer to the regression line."
   ]
  }
 ],
 "metadata": {
  "kernelspec": {
   "display_name": "Python 3 (ipykernel)",
   "language": "python",
   "name": "python3"
  },
  "language_info": {
   "codemirror_mode": {
    "name": "ipython",
    "version": 3
   },
   "file_extension": ".py",
   "mimetype": "text/x-python",
   "name": "python",
   "nbconvert_exporter": "python",
   "pygments_lexer": "ipython3",
   "version": "3.9.12"
  }
 },
 "nbformat": 4,
 "nbformat_minor": 5
}
